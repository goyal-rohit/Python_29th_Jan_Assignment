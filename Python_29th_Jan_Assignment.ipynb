{
 "cells": [
  {
   "cell_type": "markdown",
   "id": "8551a643-62db-4b52-ace5-57d995072771",
   "metadata": {},
   "source": [
    "1. Who developed Python Programming Language? \n",
    "2. Which type of Programming does Python support? \n",
    "3. Is Python case sensitive when dealing with identifiers? \n",
    "4. What is the correct extension of the Python file? \n",
    "5. Is Python code compiled or interpreted? \n",
    "6. Name a few blocks of code used to define in Python language? \n",
    "7. State a character used to give single-line comments in Python? \n",
    "8. Mention functions which can help us to find the version of python that we are currently working on? \n",
    "9. Python supports the creation of anonymous functions at runtime, using a construct called \n",
    "10. What does pip stand for python? \n",
    "11. Mention a few built-in functions in python? \n",
    "12. What is the maximum possible length of an identifier in Python? \n",
    "13. What are the benefits of using Python? \n",
    "14. How is memory managed in Python? \n",
    "15. How to install Python on Windows and set path variables? \n",
    "16. Is indentation required in python? "
   ]
  },
  {
   "cell_type": "markdown",
   "id": "432995e8-b1c3-49de-b154-e2ab685db48c",
   "metadata": {},
   "source": [
    "1. Python was created by Guido van Rossum"
   ]
  },
  {
   "cell_type": "markdown",
   "id": "c5485f47-5548-434f-85d7-a815a2424f06",
   "metadata": {},
   "source": [
    "2. Python is a high level, general purpose programming language, that supports multiple programming paradigms, including procedural, Object oriented and functional programming\n",
    "    It also has support for dynamic typing, automatic memory management and a large standard library that makes it easy to use for a wide range of applications."
   ]
  },
  {
   "cell_type": "markdown",
   "id": "f70233af-7551-462c-8bae-2acf08827e4b",
   "metadata": {},
   "source": [
    "3. Yes Python is case sensitive when dealing with identifiers. This means identifiers such as variable names, function names and class names, must be spelled consistently with the same capitalization throughout the program"
   ]
  },
  {
   "cell_type": "markdown",
   "id": "96fcaf3d-3bef-4e63-a5af-4ee1779a9838",
   "metadata": {},
   "source": [
    "4. The correct extension of the python file is .py"
   ]
  },
  {
   "cell_type": "markdown",
   "id": "8e34dbf3-c3ec-4ced-927f-9dbfce74b9bb",
   "metadata": {},
   "source": [
    "5. Python code is interpreted not complied."
   ]
  },
  {
   "cell_type": "markdown",
   "id": "fc04d9eb-5c3e-448e-a2af-17f5646136fb",
   "metadata": {},
   "source": [
    "6. Function Defination Block; Conditional block; loop block; class block; exception handling block"
   ]
  },
  {
   "cell_type": "markdown",
   "id": "8dec245f-9edd-4879-a1b2-676e7054360f",
   "metadata": {},
   "source": [
    "7. '#'"
   ]
  },
  {
   "cell_type": "markdown",
   "id": "7ba3f329-2f24-43d0-81f5-9d2d01a50496",
   "metadata": {},
   "source": [
    "  8. \n",
    "import sys\n",
    "print(sys.version)\n",
    "\n",
    "import platform\n",
    "print(platform.python_version())\n",
    "\n",
    "import sys\n",
    "print(sys.version_info)\n",
    "\n",
    "python --version  #in CMD\n"
   ]
  },
  {
   "cell_type": "markdown",
   "id": "4e02e3c1-fbf0-4fd6-939e-b7967e5b2a86",
   "metadata": {},
   "source": [
    "9. Lambda"
   ]
  },
  {
   "cell_type": "markdown",
   "id": "6cdd9afa-d71a-443b-acb9-fe9407dc8e67",
   "metadata": {},
   "source": [
    "10. In Python, \"pip\" stands for \"Pip Installs Packages\". Pip is a package manager for Python that allows you to easily install, update, and remove third-party packages and libraries that are not part of the standard Python library."
   ]
  },
  {
   "cell_type": "markdown",
   "id": "6ee824c4-2853-4940-8e1e-1e24f87a5a3e",
   "metadata": {},
   "source": [
    "11. print(); type(); len(); range(); sum(); sorted(); min(); max(); str(); int(); list(); dict(); "
   ]
  },
  {
   "cell_type": "markdown",
   "id": "b65d91ce-34d5-4949-ae98-ab8d48099ae6",
   "metadata": {},
   "source": [
    "12. There is no specific length defined, but it is generally recommended to keep identifier name reasonably short and descriptive to improve readability"
   ]
  },
  {
   "cell_type": "markdown",
   "id": "17cee044-746e-4ebb-a080-2b30bd7a4f5b",
   "metadata": {},
   "source": [
    "13. There are many benefits of using Python for programming. Some of the main benefits include:\n",
    "\n",
    "    1. Simple and easy to learn: Python has a simple and easy-to-learn syntax that makes it a popular choice for beginners. It has a clean and readable syntax that emphasizes code readability, which reduces the cost of program maintenance.\n",
    "\n",
    "    2. Large standard library: Python comes with a large standard library that provides a wide range of tools and modules that can be used for various purposes, such as web development, scientific computing, data analysis, and machine learning.\n",
    "\n",
    "    3. Platform-independent: Python is a platform-independent language, which means that it can run on multiple platforms, including Windows, Mac, and Linux, without the need for any modifications.\n",
    "\n",
    "    4. Dynamically typed: Python is a dynamically typed language, which means that the type of a variable is determined at runtime. This makes it easier to write and modify code, as the programmer does not need to worry about declaring variable types.\n",
    "\n",
    "    5. Large community and ecosystem: Python has a large and active community of developers, which means that there are many resources and tools available online to help you learn and use Python.\n",
    "\n",
    "    6. Support for multiple programming paradigms: Python supports multiple programming paradigms, including procedural, object-oriented, and functional programming. This makes it a versatile language that can be used for various types of programming tasks.\n",
    "\n",
    "These are just a few of the many benefits of using Python for programming. Python's popularity is also due in part to its wide range of applications, including web development, data science, machine learning, and artificial intelligence.\n"
   ]
  },
  {
   "cell_type": "markdown",
   "id": "244a1ee1-ccc6-4756-805a-68ff292d6a7d",
   "metadata": {},
   "source": [
    "14. In Python, memory management is handled automatically by a process called \"garbage collection\". Python uses a technique called reference counting to keep track of objects in memory. Each object has a reference count that keeps track of the number of references to the object.\n",
    "\n",
    "When an object's reference count drops to zero, the object is no longer needed and its memory is released back to the system. Python's garbage collector periodically runs in the background to identify and delete objects that are no longer needed.\n",
    "\n",
    "Python also provides a way to manage memory manually through the use of the \"del\" keyword. This keyword can be used to delete a reference to an object and reduce its reference count, which can trigger the garbage collector to delete the object if it is no longer needed.\n",
    "\n",
    "In addition to the garbage collector, Python also provides a mechanism called \"object caching\" that helps reduce memory usage. This mechanism allows Python to reuse objects that have been previously created, rather than creating new objects each time they are needed.\n",
    "\n",
    "Overall, Python's memory management system is designed to be efficient and automatic, allowing programmers to focus on writing code rather than worrying about memory allocation and deallocation."
   ]
  },
  {
   "cell_type": "markdown",
   "id": "a9abe1a5-f402-46ad-8990-3735f8d739fd",
   "metadata": {},
   "source": [
    "15. To install Python on Windows and set path variables, you can follow these steps:\n",
    "\n",
    "        Go to the official Python website at https://www.python.org/downloads/windows/.\n",
    "        Choose the version of Python you want to install and click on the \"Download\" button.\n",
    "        Run the installer and follow the installation instructions.\n",
    "        During the installation process, make sure to select the option to add Python to the system path. This will automatically set the path variables for you.\n",
    "        Once the installation is complete, open a command prompt and type \"python\" to verify that Python is installed correctly and the path variables are set.\n",
    "    If you need to set the path variables manually, you can follow these steps:\n",
    "\n",
    "        Open the \"System\" properties window by right-clicking on \"Computer\" or \"This PC\" and selecting \"Properties\".\n",
    "        Click on \"Advanced system settings\" on the left-hand side of the window.\n",
    "        Click on the \"Environment Variables\" button.\n",
    "        Under \"System variables\", find the \"Path\" variable and click on \"Edit\".\n",
    "        Click on \"New\" and add the path to your Python installation directory, such as \"C:\\Python39\".\n",
    "        Click on \"OK\" to save the changes.\n",
    "    Once the path variables are set, you should be able to run Python from the command prompt by typing \"python\" and pressing Enter."
   ]
  },
  {
   "cell_type": "markdown",
   "id": "a6a45e5e-910f-4e57-9a0b-d3011d5361fe",
   "metadata": {},
   "source": [
    "16. Yes, Indendation is must in Python."
   ]
  }
 ],
 "metadata": {
  "kernelspec": {
   "display_name": "Python 3 (ipykernel)",
   "language": "python",
   "name": "python3"
  },
  "language_info": {
   "codemirror_mode": {
    "name": "ipython",
    "version": 3
   },
   "file_extension": ".py",
   "mimetype": "text/x-python",
   "name": "python",
   "nbconvert_exporter": "python",
   "pygments_lexer": "ipython3",
   "version": "3.9.13"
  }
 },
 "nbformat": 4,
 "nbformat_minor": 5
}
